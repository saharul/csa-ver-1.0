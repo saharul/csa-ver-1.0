{
 "cells": [
  {
   "cell_type": "code",
   "execution_count": 3,
   "metadata": {},
   "outputs": [
    {
     "data": {
      "text/plain": [
       "SvcId          int64\n",
       "Date          object\n",
       "Name          object\n",
       "Qty            int64\n",
       "UnitPrice    float64\n",
       "Disc         float64\n",
       "Amount       float64\n",
       "dtype: object"
      ]
     },
     "execution_count": 3,
     "metadata": {},
     "output_type": "execute_result"
    }
   ],
   "source": [
    "import pandas as pd\n",
    "\n",
    "CSV_FILE = \"ServiceParts.csv\"\n",
    "\n",
    "df = pd.read_csv(CSV_FILE)\n",
    "\n",
    "#df = df.sort_values(['SvcId'])\n",
    "\n",
    "\n",
    "#df = df.groupby(['SvcId'])[['Amount']].sum()\n",
    "\n",
    "df.dtypes\n",
    "#df.loc[0,'Amount']\n"
   ]
  },
  {
   "cell_type": "code",
   "execution_count": 35,
   "metadata": {},
   "outputs": [
    {
     "data": {
      "text/html": [
       "<div>\n",
       "<style scoped>\n",
       "    .dataframe tbody tr th:only-of-type {\n",
       "        vertical-align: middle;\n",
       "    }\n",
       "\n",
       "    .dataframe tbody tr th {\n",
       "        vertical-align: top;\n",
       "    }\n",
       "\n",
       "    .dataframe thead th {\n",
       "        text-align: right;\n",
       "    }\n",
       "</style>\n",
       "<table border=\"1\" class=\"dataframe\">\n",
       "  <thead>\n",
       "    <tr style=\"text-align: right;\">\n",
       "      <th></th>\n",
       "      <th>SvcId</th>\n",
       "      <th>SvcDate</th>\n",
       "      <th>Model</th>\n",
       "      <th>Plate</th>\n",
       "      <th>Svc_Center</th>\n",
       "      <th>Mileage</th>\n",
       "      <th>Nxt_Mileage</th>\n",
       "      <th>Nxt_Date</th>\n",
       "      <th>Amount</th>\n",
       "    </tr>\n",
       "  </thead>\n",
       "  <tbody>\n",
       "    <tr>\n",
       "      <th>0</th>\n",
       "      <td>0</td>\n",
       "      <td>27/03/2020</td>\n",
       "      <td>NaN</td>\n",
       "      <td>NaN</td>\n",
       "      <td>NaN</td>\n",
       "      <td>NaN</td>\n",
       "      <td>NaN</td>\n",
       "      <td>NaN</td>\n",
       "      <td>100.0</td>\n",
       "    </tr>\n",
       "  </tbody>\n",
       "</table>\n",
       "</div>"
      ],
      "text/plain": [
       "   SvcId     SvcDate Model Plate Svc_Center  Mileage  Nxt_Mileage Nxt_Date  \\\n",
       "0      0  27/03/2020   NaN   NaN        NaN      NaN          NaN      NaN   \n",
       "\n",
       "   Amount  \n",
       "0   100.0  "
      ]
     },
     "execution_count": 35,
     "metadata": {},
     "output_type": "execute_result"
    }
   ],
   "source": [
    "import pandas as pd\n",
    "\n",
    "CSV_FILE = ['','']\n",
    "CSV_FILE[0] = \"ServiceMaster.csv\"\n",
    "\n",
    "svcid = 0\n",
    "df = pd.read_csv(CSV_FILE[0])\n",
    "#df.index.name = \"Key\"\n",
    "\n",
    "# filter the dataframe to user input service id\n",
    "df1 = df[df.SvcId == svcid]\n",
    "\n",
    "# get the index value of user keyed in service id\n",
    "index = next(iter(df1[df1['SvcId']==svcid].index), 'no match') \n",
    "\n",
    "df1.at[index, 'Amount'] = 100.00\n",
    "\n",
    "df1\n",
    "     "
   ]
  }
 ],
 "metadata": {
  "kernelspec": {
   "display_name": "Python 3",
   "language": "python",
   "name": "python3"
  },
  "language_info": {
   "codemirror_mode": {
    "name": "ipython",
    "version": 3
   },
   "file_extension": ".py",
   "mimetype": "text/x-python",
   "name": "python",
   "nbconvert_exporter": "python",
   "pygments_lexer": "ipython3",
   "version": "3.5.3"
  }
 },
 "nbformat": 4,
 "nbformat_minor": 4
}
